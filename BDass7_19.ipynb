{
  "nbformat": 4,
  "nbformat_minor": 0,
  "metadata": {
    "colab": {
      "provenance": []
    },
    "kernelspec": {
      "name": "python3",
      "display_name": "Python 3"
    },
    "language_info": {
      "name": "python"
    }
  },
  "cells": [
    {
      "cell_type": "markdown",
      "source": [
        "---\n",
        "*NAME - BHAVSAR VISHVA*\n",
        "\n",
        "*ID - 202318019*\n",
        "\n",
        "*COURSE - MSC DS*\n",
        "\n",
        "*SUBJ - BD 7*\n",
        "\n",
        "\n",
        "\n",
        "---"
      ],
      "metadata": {
        "id": "HMdWE_IgSyWM"
      }
    },
    {
      "cell_type": "code",
      "execution_count": 6,
      "metadata": {
        "id": "x14RETr_OH9o"
      },
      "outputs": [],
      "source": [
        "import numpy as np\n",
        "import json"
      ]
    },
    {
      "cell_type": "code",
      "source": [
        "!pip install confluent_kafka"
      ],
      "metadata": {
        "colab": {
          "base_uri": "https://localhost:8080/"
        },
        "id": "oQbO-Xw1OcWP",
        "outputId": "ecf3582e-86ed-4b94-8953-b6666acf9959"
      },
      "execution_count": 3,
      "outputs": [
        {
          "output_type": "stream",
          "name": "stdout",
          "text": [
            "Collecting confluent_kafka\n",
            "  Downloading confluent_kafka-2.4.0-cp310-cp310-manylinux_2_17_x86_64.manylinux2014_x86_64.whl (4.0 MB)\n",
            "\u001b[2K     \u001b[90m━━━━━━━━━━━━━━━━━━━━━━━━━━━━━━━━━━━━━━━━\u001b[0m \u001b[32m4.0/4.0 MB\u001b[0m \u001b[31m11.1 MB/s\u001b[0m eta \u001b[36m0:00:00\u001b[0m\n",
            "\u001b[?25hInstalling collected packages: confluent_kafka\n",
            "Successfully installed confluent_kafka-2.4.0\n"
          ]
        }
      ]
    },
    {
      "cell_type": "code",
      "source": [
        "#Consumer\n",
        "from confluent_kafka import Consumer, KafkaError"
      ],
      "metadata": {
        "id": "lsiCfffuOKNn"
      },
      "execution_count": 4,
      "outputs": []
    },
    {
      "cell_type": "code",
      "source": [
        "def consume_inventory_data():\n",
        "    # Kafka consumer configuration\n",
        "    kafka_config = {'bootstrap.servers': 'localhost:9092', 'group.id': 'inventory_group'}\n",
        "\n",
        "    # Create Kafka consumer\n",
        "    consumer = Consumer(kafka_config)\n",
        "    consumer.subscribe(['inventory_orders'])\n",
        "\n",
        "    # Consume messages\n",
        "    while True:\n",
        "        msg = consumer.poll(timeout=1.0)  # Poll for messages\n",
        "        if msg is None:\n",
        "            continue\n",
        "        if msg.error():\n",
        "            if msg.error().code() == KafkaError._PARTITION_EOF:\n",
        "                continue\n",
        "            else:\n",
        "                print(f\"Consumer error: {msg.error()}\")\n",
        "                break\n",
        "        inventory_data = json.loads(msg.value().decode('utf-8'))\n",
        "        print(\"Received inventory data:\", inventory_data)\n",
        "\n",
        "def consume_delivery_data():\n",
        "    # Kafka consumer configuration\n",
        "    kafka_config = {'bootstrap.servers': 'localhost:9092', 'group.id': 'delivery_group'}\n",
        "\n",
        "    # Create Kafka consumer\n",
        "    consumer = Consumer(kafka_config)\n",
        "    consumer.subscribe(['delivery_orders'])\n",
        "\n",
        "    # Consume messages\n",
        "    while True:\n",
        "        msg = consumer.poll(timeout=1.0)  # Poll for messages\n",
        "        if msg is None:\n",
        "            continue\n",
        "        if msg.error():\n",
        "            if msg.error().code() == KafkaError._PARTITION_EOF:\n",
        "                # End of partition\n",
        "                continue\n",
        "            else:\n",
        "                print(f\"Consumer error: {msg.error()}\")\n",
        "                break\n",
        "        # Process delivery message\n",
        "        delivery_data = json.loads(msg.value().decode('utf-8'))\n",
        "        print(\"Received delivery data:\", delivery_data)"
      ],
      "metadata": {
        "id": "2l-eerCcOqOE"
      },
      "execution_count": null,
      "outputs": []
    },
    {
      "cell_type": "code",
      "source": [
        "# Consume inventory and delivery data\n",
        "consume_inventory_data()\n",
        "consume_delivery_data()"
      ],
      "metadata": {
        "id": "bob1_RT2R7zh"
      },
      "execution_count": null,
      "outputs": []
    },
    {
      "cell_type": "code",
      "source": [
        "#message filter\n",
        "def filter_inventory_message(message):\n",
        "    \"\"\"\n",
        "    Filter inventory messages based on the 'type' field.\n",
        "\n",
        "    Args:\n",
        "        message (str): JSON-encoded message.\n",
        "\n",
        "    Returns:\n",
        "        bool: True if the message type is 'inventory', otherwise False.\n",
        "    \"\"\"\n",
        "    try:\n",
        "        data = json.loads(message)\n",
        "        return data.get('type') == 'inventory'\n",
        "    except json.JSONDecodeError:\n",
        "        return False\n"
      ],
      "metadata": {
        "id": "UQvFDUFcR7wL"
      },
      "execution_count": null,
      "outputs": []
    },
    {
      "cell_type": "code",
      "source": [
        "def filter_delivery_message(message):\n",
        "    \"\"\"\n",
        "    Filter delivery messages based on the 'type' field.\n",
        "\n",
        "    Args:\n",
        "        message (str): JSON-encoded message.\n",
        "\n",
        "    Returns:\n",
        "        bool: True if the message type is 'delivery', otherwise False.\n",
        "    \"\"\"\n",
        "    try:\n",
        "        data = json.loads(message)\n",
        "        return data.get('type') == 'delivery'\n",
        "    except json.JSONDecodeError:\n",
        "        return False"
      ],
      "metadata": {
        "id": "k37V-C9lR7tb"
      },
      "execution_count": null,
      "outputs": []
    },
    {
      "cell_type": "code",
      "source": [
        "#Producer\n",
        "from confluent_kafka import Producer"
      ],
      "metadata": {
        "id": "bRB8VhLiR7rG"
      },
      "execution_count": null,
      "outputs": []
    },
    {
      "cell_type": "code",
      "source": [
        "def produce_inventory_order():\n",
        "    # configuration\n",
        "    kafka_config = {'bootstrap.servers': 'localhost:9092'}\n",
        "\n",
        "    # producer\n",
        "    producer = Producer(kafka_config)\n",
        "\n",
        "    # Simulate inventory events data (replace this with actual data source)\n",
        "    inventory_events = [\n",
        "        {\"type\": \"inventory\", \"item_id\": \"123\", \"quantity\": 10},\n",
        "        {\"type\": \"inventory\", \"item_id\": \"456\", \"quantity\": 20}\n",
        "    ]\n",
        "\n",
        "    # Send inventory events to Kafka topic\n",
        "    for event in inventory_events:\n",
        "        producer.produce('inventory_orders', json.dumps(event).encode('utf-8'))\n",
        "\n",
        "    producer.flush()"
      ],
      "metadata": {
        "id": "loSou6_QSa2N"
      },
      "execution_count": null,
      "outputs": []
    },
    {
      "cell_type": "code",
      "source": [
        "def produce_delivery_order():\n",
        "    # Kafka producer configuration\n",
        "    kafka_config = {'bootstrap.servers': 'localhost:9092'}\n",
        "\n",
        "    # Create Kafka producer\n",
        "    producer = Producer(kafka_config)\n",
        "\n",
        "    # Simulate delivery events data (replace this with actual data source)\n",
        "    delivery_events = [\n",
        "        {\"type\": \"delivery\", \"order_id\": \"1001\", \"status\": \"pending\"},\n",
        "        {\"type\": \"delivery\", \"order_id\": \"1002\", \"status\": \"shipped\"}\n",
        "    ]\n",
        "\n",
        "    # Send delivery events to Kafka topic\n",
        "    for event in delivery_events:\n",
        "        producer.produce('delivery_orders', json.dumps(event).encode('utf-8'))\n",
        "\n",
        "    producer.flush()"
      ],
      "metadata": {
        "id": "2JvNcYhSSazE"
      },
      "execution_count": null,
      "outputs": []
    },
    {
      "cell_type": "code",
      "source": [
        "# Produce inventory and delivery orders\n",
        "produce_inventory_order()\n",
        "produce_delivery_order()"
      ],
      "metadata": {
        "id": "e4SiUEzVSnv7"
      },
      "execution_count": null,
      "outputs": []
    },
    {
      "cell_type": "code",
      "source": [],
      "metadata": {
        "id": "0xHShTuuSnsc"
      },
      "execution_count": null,
      "outputs": []
    }
  ]
}